{
 "cells": [
  {
   "cell_type": "code",
   "execution_count": null,
   "metadata": {},
   "outputs": [],
   "source": [
    "import h5py\n",
    "import numpy as np\n",
    "path = '/scratch/bonaccorso/LagrangianTracers/velocities.h5'\n",
    "f = h5py.File(path,'r')\n",
    "print(f.keys())\n",
    "dbh5 = f['vel3d']\n",
    "dbh5.shape\n",
    "db = np.ndarray(shape=(327680,2000,3))\n",
    "i=0\n",
    "for traj in dbh5:\n",
    "    db[i,:,:] = traj\n",
    "    i += 1\n",
    "\n",
    "#np.save(\"velocities\",db1)"
   ]
  }
 ],
 "metadata": {
  "kernelspec": {
   "display_name": "Python 3",
   "language": "python",
   "name": "python3"
  },
  "language_info": {
   "codemirror_mode": {
    "name": "ipython",
    "version": 3
   },
   "file_extension": ".py",
   "mimetype": "text/x-python",
   "name": "python",
   "nbconvert_exporter": "python",
   "pygments_lexer": "ipython3",
   "version": "3.6.8"
  }
 },
 "nbformat": 4,
 "nbformat_minor": 4
}
