{
 "cells": [
  {
   "cell_type": "code",
   "execution_count": 20,
   "id": "prompt-athletics",
   "metadata": {},
   "outputs": [],
   "source": [
    "import torch\n",
    "import numpy as np\n",
    "import matplotlib.pyplot as plt\n",
    "import sys\n",
    "import stats"
   ]
  },
  {
   "cell_type": "code",
   "execution_count": 3,
   "id": "forced-tractor",
   "metadata": {},
   "outputs": [],
   "source": [
    "vel1 = np.load('../velocities.npy')"
   ]
  },
  {
   "cell_type": "code",
   "execution_count": 4,
   "id": "rational-wallace",
   "metadata": {},
   "outputs": [
    {
     "data": {
      "text/plain": [
       "(327680, 2000, 3)"
      ]
     },
     "execution_count": 4,
     "metadata": {},
     "output_type": "execute_result"
    }
   ],
   "source": [
    "vel1.shape"
   ]
  },
  {
   "cell_type": "code",
   "execution_count": 146,
   "id": "olympic-civilization",
   "metadata": {},
   "outputs": [],
   "source": [
    "def compute_sf(vel, sf, device, dtype):\n",
    "    \n",
    "    taus = sf[0].astype(np.int64)\n",
    "    \n",
    "    vel = vel.astype(dtype)\n",
    "    time_len = vel.shape[-2]\n",
    "    \n",
    "    #vel_ = torch.from_numpy(vel).to(device)\n",
    "    vel_ = torch.from_numpy(vel).to(device)\n",
    "    \n",
    "    for tau_idx, tau in enumerate(taus):\n",
    "        t_1 = torch.tensor(np.arange(tau, time_len))\n",
    "        t_2 = torch.tensor(np.arange(0, time_len - tau))\n",
    "        \n",
    "        diff = vel_[:, t_1, 0] - vel_[:, t_2, 0]\n",
    "        diff = torch.square(diff)\n",
    "        \n",
    "        sf[1,tau_idx] += torch.sum(diff).cpu()\n",
    "        sf[2,tau_idx] += torch.sum(torch.square(diff)).cpu()\n",
    "        sf[3,tau_idx] += torch.sum(torch.pow(diff, 3)).cpu()\n",
    "        sf[4,tau_idx] += torch.sum(torch.pow(diff, 4)).cpu()\n",
    "        sf[5,tau_idx] += torch.sum(torch.pow(diff, 5)).cpu()\n",
    "        sf[6,tau_idx] += torch.sum(torch.pow(diff, 6)).cpu()\n",
    "\n",
    "    return sf\n",
    "\n",
    "def sf_wrap(\n",
    "    vel,\n",
    "    device            = torch.device('cuda'),\n",
    "    dtype             = np.float64,\n",
    "    chunk_size        = False,\n",
    "):\n",
    "    \n",
    "    # DEFINE TAUS\n",
    "    taus = [1, 2, 3, 4, 5, 6, 7, 8, 10, 12, 15,\n",
    "        18, 22, 26, 31, 38, 46, 55, 66, 79,\n",
    "        95, 114, 137, 164, 197, 237, 284,\n",
    "        341, 410, 492, 590, 708, 850, 1020]\n",
    "    \n",
    "    # PREPARE SF ARRAY\n",
    "    sf = np.zeros((7,len(taus)))\n",
    "    sf[0] = taus\n",
    "\n",
    "    # DO COMPUTATION ON GPU OR CPU (IN PARALLEL)    \n",
    "    if chunk_size:\n",
    "        \n",
    "        n_chunks = vel.shape[0] // chunk_size\n",
    "        chunks_idxs = []\n",
    "        for ii in range(n_chunks):\n",
    "            chunks_idxs.append(slice(ii*chunk_size, (ii+1)*chunk_size))\n",
    "        \n",
    "        if chunks_idxs[-1].stop < vel.shape[0]:\n",
    "            print('adding last {} idxs'.format(vel.shape[0] % chunk_size))\n",
    "            chunks_idxs[-1] = slice((n_chunks-1)*chunk_size, vel.shape[0]-1)\n",
    "\n",
    "        for ii in range(n_chunks):\n",
    "            vel_chunk = vel[chunks_idxs[ii]]\n",
    "            sf[1:] = sf[1:] + compute_sf(vel_chunk, sf, device, dtype=dtype)[1:]\n",
    "    else:\n",
    "        sf = compute_sf(vel, sf, device, dtype=dtype)\n",
    "    \n",
    "    # NORMALIZE\n",
    "    taus = sf[0].astype(np.int64)\n",
    "    time_len = vel.shape[1]\n",
    "    tau_idxs = np.arange(sf.shape[1])\n",
    "    sf[1:,tau_idxs] = sf[1:,tau_idxs] / (( time_len - taus ) * vel.shape[0])\n",
    "    \n",
    "    return sf\n",
    "    "
   ]
  },
  {
   "cell_type": "code",
   "execution_count": 80,
   "id": "cooked-renewal",
   "metadata": {},
   "outputs": [],
   "source": [
    "# taus = [2**i for i in range(11)]\n",
    "taus = [1, 2, 3, 4, 5, 6, 7, 8, 10, 12, 15,\n",
    "        18, 22, 26, 31, 38, 46, 55, 66, 79,\n",
    "        95, 114, 137, 164, 197, 237, 284,\n",
    "        341, 410, 492, 590, 708, 850, 1020]"
   ]
  },
  {
   "cell_type": "code",
   "execution_count": 115,
   "id": "mighty-telescope",
   "metadata": {},
   "outputs": [],
   "source": [
    "torch.cuda.empty_cache()"
   ]
  },
  {
   "cell_type": "code",
   "execution_count": 116,
   "id": "useful-argentina",
   "metadata": {},
   "outputs": [
    {
     "data": {
      "text/plain": [
       "(5000, 2000, 3)"
      ]
     },
     "execution_count": 116,
     "metadata": {},
     "output_type": "execute_result"
    }
   ],
   "source": [
    "vel = vel1[:5000]\n",
    "vel.shape"
   ]
  },
  {
   "cell_type": "code",
   "execution_count": 150,
   "id": "appointed-sally",
   "metadata": {},
   "outputs": [
    {
     "name": "stdout",
     "output_type": "stream",
     "text": [
      "CPU times: user 1.08 s, sys: 21.1 ms, total: 1.11 s\n",
      "Wall time: 1.1 s\n"
     ]
    }
   ],
   "source": [
    "%time sf = sf_wrap(vel, dtype=np.float32, chunk_size=100)"
   ]
  },
  {
   "cell_type": "code",
   "execution_count": 97,
   "id": "directed-indonesian",
   "metadata": {},
   "outputs": [
    {
     "name": "stdout",
     "output_type": "stream",
     "text": [
      "CPU times: user 803 ms, sys: 413 ms, total: 1.22 s\n",
      "Wall time: 1.21 s\n"
     ]
    }
   ],
   "source": [
    "%time sf = sf_wrap(vel, dtype=np.float32)"
   ]
  },
  {
   "cell_type": "code",
   "execution_count": 99,
   "id": "accomplished-crazy",
   "metadata": {},
   "outputs": [
    {
     "name": "stdout",
     "output_type": "stream",
     "text": [
      "CPU times: user 3min 7s, sys: 25 s, total: 3min 32s\n",
      "Wall time: 11.3 s\n"
     ]
    }
   ],
   "source": [
    "device = torch.device('cpu')\n",
    "%time sf = sf_wrap(vel, device, dtype=np.float32)"
   ]
  },
  {
   "cell_type": "code",
   "execution_count": 134,
   "id": "focal-literature",
   "metadata": {},
   "outputs": [
    {
     "name": "stdout",
     "output_type": "stream",
     "text": [
      "Database with more than one component. Only x taken\n",
      "Taking entire dataset, None samples\n",
      "Converting database to fortran order\n",
      "(2000, 5000)\n",
      "CPU times: user 3.67 s, sys: 40.8 ms, total: 3.71 s\n",
      "Wall time: 3.67 s\n"
     ]
    }
   ],
   "source": [
    "%time sf_old = stats.compute_sf(vel)"
   ]
  },
  {
   "cell_type": "code",
   "execution_count": 151,
   "id": "threaded-swaziland",
   "metadata": {},
   "outputs": [
    {
     "data": {
      "image/png": "[encoded data removed]",
      "text/plain": [
       "<Figure size 432x288 with 1 Axes>"
      ]
     },
     "metadata": {
      "needs_background": "light"
     },
     "output_type": "display_data"
    }
   ],
   "source": [
    "plt.plot(sf[0], sf[1])\n",
    "plt.plot(sf[0], sf[2])\n",
    "plt.plot(sf[0], sf[3])\n",
    "plt.plot(sf[0], sf[4])\n",
    "plt.plot(sf[0], sf[5])\n",
    "plt.plot(sf[0], sf[6])\n",
    "plt.xscale('log')\n",
    "plt.yscale('log')\n",
    "plt.show()"
   ]
  },
  {
   "cell_type": "code",
   "execution_count": 149,
   "id": "dependent-denver",
   "metadata": {},
   "outputs": [
    {
     "data": {
      "image/png": "[encoded data removed]",
      "text/plain": [
       "<Figure size 432x288 with 1 Axes>"
      ]
     },
     "metadata": {
      "needs_background": "light"
     },
     "output_type": "display_data"
    }
   ],
   "source": [
    "old = sf_old\n",
    "plt.plot(old[:,0], old[:,1])\n",
    "plt.plot(old[:,0], old[:,2])\n",
    "plt.plot(old[:,0], old[:,3])\n",
    "plt.plot(old[:,0], old[:,4])\n",
    "plt.plot(old[:,0], old[:,5])\n",
    "plt.plot(old[:,0], old[:,6])\n",
    "plt.xscale('log')\n",
    "plt.yscale('log')\n",
    "plt.show()"
   ]
  },
  {
   "cell_type": "code",
   "execution_count": 136,
   "id": "coordinated-testing",
   "metadata": {},
   "outputs": [
    {
     "name": "stdout",
     "output_type": "stream",
     "text": [
      "76200753490286.58\n"
     ]
    }
   ],
   "source": [
    "max_rel_error = np.max( np.abs( sf_old - sf.T ) / sf_old )\n",
    "print(max_rel_error)"
   ]
  },
  {
   "cell_type": "code",
   "execution_count": null,
   "id": "noted-showcase",
   "metadata": {},
   "outputs": [],
   "source": []
  }
 ],
 "metadata": {
  "kernelspec": {
   "display_name": "Python 3",
   "language": "python",
   "name": "python3"
  },
  "language_info": {
   "codemirror_mode": {
    "name": "ipython",
    "version": 3
   },
   "file_extension": ".py",
   "mimetype": "text/x-python",
   "name": "python",
   "nbconvert_exporter": "python",
   "pygments_lexer": "ipython3",
   "version": "3.8.5"
  }
 },
 "nbformat": 4,
 "nbformat_minor": 5
}
