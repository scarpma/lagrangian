{
 "cells": [
  {
   "cell_type": "code",
   "execution_count": 1,
   "metadata": {},
   "outputs": [
    {
     "name": "stderr",
     "output_type": "stream",
     "text": [
      "/usr/local/tensorflow/1.14-0/lib/python3.6/site-packages/tensorflow/python/framework/dtypes.py:516: FutureWarning: Passing (type, 1) or '1type' as a synonym of type is deprecated; in a future version of numpy, it will be understood as (type, (1,)) / '(1,)type'.\n",
      "  _np_qint8 = np.dtype([(\"qint8\", np.int8, 1)])\n",
      "/usr/local/tensorflow/1.14-0/lib/python3.6/site-packages/tensorflow/python/framework/dtypes.py:517: FutureWarning: Passing (type, 1) or '1type' as a synonym of type is deprecated; in a future version of numpy, it will be understood as (type, (1,)) / '(1,)type'.\n",
      "  _np_quint8 = np.dtype([(\"quint8\", np.uint8, 1)])\n",
      "/usr/local/tensorflow/1.14-0/lib/python3.6/site-packages/tensorflow/python/framework/dtypes.py:518: FutureWarning: Passing (type, 1) or '1type' as a synonym of type is deprecated; in a future version of numpy, it will be understood as (type, (1,)) / '(1,)type'.\n",
      "  _np_qint16 = np.dtype([(\"qint16\", np.int16, 1)])\n",
      "/usr/local/tensorflow/1.14-0/lib/python3.6/site-packages/tensorflow/python/framework/dtypes.py:519: FutureWarning: Passing (type, 1) or '1type' as a synonym of type is deprecated; in a future version of numpy, it will be understood as (type, (1,)) / '(1,)type'.\n",
      "  _np_quint16 = np.dtype([(\"quint16\", np.uint16, 1)])\n",
      "/usr/local/tensorflow/1.14-0/lib/python3.6/site-packages/tensorflow/python/framework/dtypes.py:520: FutureWarning: Passing (type, 1) or '1type' as a synonym of type is deprecated; in a future version of numpy, it will be understood as (type, (1,)) / '(1,)type'.\n",
      "  _np_qint32 = np.dtype([(\"qint32\", np.int32, 1)])\n",
      "/usr/local/tensorflow/1.14-0/lib/python3.6/site-packages/tensorflow/python/framework/dtypes.py:525: FutureWarning: Passing (type, 1) or '1type' as a synonym of type is deprecated; in a future version of numpy, it will be understood as (type, (1,)) / '(1,)type'.\n",
      "  np_resource = np.dtype([(\"resource\", np.ubyte, 1)])\n",
      "/usr/local/tensorflow/1.14-0/lib/python3.6/site-packages/tensorboard/compat/tensorflow_stub/dtypes.py:541: FutureWarning: Passing (type, 1) or '1type' as a synonym of type is deprecated; in a future version of numpy, it will be understood as (type, (1,)) / '(1,)type'.\n",
      "  _np_qint8 = np.dtype([(\"qint8\", np.int8, 1)])\n",
      "/usr/local/tensorflow/1.14-0/lib/python3.6/site-packages/tensorboard/compat/tensorflow_stub/dtypes.py:542: FutureWarning: Passing (type, 1) or '1type' as a synonym of type is deprecated; in a future version of numpy, it will be understood as (type, (1,)) / '(1,)type'.\n",
      "  _np_quint8 = np.dtype([(\"quint8\", np.uint8, 1)])\n",
      "/usr/local/tensorflow/1.14-0/lib/python3.6/site-packages/tensorboard/compat/tensorflow_stub/dtypes.py:543: FutureWarning: Passing (type, 1) or '1type' as a synonym of type is deprecated; in a future version of numpy, it will be understood as (type, (1,)) / '(1,)type'.\n",
      "  _np_qint16 = np.dtype([(\"qint16\", np.int16, 1)])\n",
      "/usr/local/tensorflow/1.14-0/lib/python3.6/site-packages/tensorboard/compat/tensorflow_stub/dtypes.py:544: FutureWarning: Passing (type, 1) or '1type' as a synonym of type is deprecated; in a future version of numpy, it will be understood as (type, (1,)) / '(1,)type'.\n",
      "  _np_quint16 = np.dtype([(\"quint16\", np.uint16, 1)])\n",
      "/usr/local/tensorflow/1.14-0/lib/python3.6/site-packages/tensorboard/compat/tensorflow_stub/dtypes.py:545: FutureWarning: Passing (type, 1) or '1type' as a synonym of type is deprecated; in a future version of numpy, it will be understood as (type, (1,)) / '(1,)type'.\n",
      "  _np_qint32 = np.dtype([(\"qint32\", np.int32, 1)])\n",
      "/usr/local/tensorflow/1.14-0/lib/python3.6/site-packages/tensorboard/compat/tensorflow_stub/dtypes.py:550: FutureWarning: Passing (type, 1) or '1type' as a synonym of type is deprecated; in a future version of numpy, it will be understood as (type, (1,)) / '(1,)type'.\n",
      "  np_resource = np.dtype([(\"resource\", np.ubyte, 1)])\n",
      "WARNING: Logging before flag parsing goes to stderr.\n",
      "W0531 16:18:25.971621 47731450723840 deprecation_wrapper.py:119] From /scratch/scarpolini/lagrangian/wgangp/db_utils.py:12: The name tf.keras.initializers.RandomNormal is deprecated. Please use tf.compat.v1.keras.initializers.RandomNormal instead.\n",
      "\n"
     ]
    }
   ],
   "source": [
    "from wgangp.db_utils import *\n",
    "from acf_utils import *\n",
    "from utility import *"
   ]
  },
  {
   "cell_type": "code",
   "execution_count": 2,
   "metadata": {},
   "outputs": [],
   "source": [
    "run = 8\n",
    "number = 5999"
   ]
  },
  {
   "cell_type": "code",
   "execution_count": 3,
   "metadata": {},
   "outputs": [
    {
     "name": "stderr",
     "output_type": "stream",
     "text": [
      "W0531 16:18:26.157219 47731450723840 deprecation.py:506] From /usr/local/tensorflow/1.14-0/lib/python3.6/site-packages/tensorflow/python/keras/initializers.py:143: calling RandomNormal.__init__ (from tensorflow.python.ops.init_ops) with dtype is deprecated and will be removed in a future version.\n",
      "Instructions for updating:\n",
      "Call initializer instance with the dtype argument instead of passing it to the constructor\n",
      "W0531 16:18:26.158927 47731450723840 deprecation.py:506] From /usr/local/tensorflow/1.14-0/lib/python3.6/site-packages/tensorflow/python/ops/init_ops.py:97: calling Zeros.__init__ (from tensorflow.python.ops.init_ops) with dtype is deprecated and will be removed in a future version.\n",
      "Instructions for updating:\n",
      "Call initializer instance with the dtype argument instead of passing it to the constructor\n",
      "W0531 16:18:26.189985 47731450723840 deprecation.py:506] From /usr/local/tensorflow/1.14-0/lib/python3.6/site-packages/tensorflow/python/ops/init_ops.py:97: calling Ones.__init__ (from tensorflow.python.ops.init_ops) with dtype is deprecated and will be removed in a future version.\n",
      "Instructions for updating:\n",
      "Call initializer instance with the dtype argument instead of passing it to the constructor\n",
      "W0531 16:18:28.718921 47731450723840 hdf5_format.py:221] No training configuration found in save file: the model was *not* compiled. Compile it manually.\n"
     ]
    }
   ],
   "source": [
    "path = f'/scratch/scarpolini/lagrangian/wgangp/runs/{run}/{number}_gen.h5'\n",
    "gen = load_model(path)\n",
    "trajs = gen.predict(np.random.normal(0, 1, size=(50000, 100)))\n",
    "np.save(f'wgangp/runs/{run}/gen_trajs_{number}', trajs)"
   ]
  },
  {
   "cell_type": "code",
   "execution_count": 4,
   "metadata": {},
   "outputs": [
    {
     "name": "stdout",
     "output_type": "stream",
     "text": [
      "massimo, minimo:  0.83121437 -0.83545065\n",
      "veri 10.273698864467972 -9.970374739869616\n",
      "generati 8.565245 -8.3048\n"
     ]
    }
   ],
   "source": [
    "path = f'/scratch/scarpolini/lagrangian/wgangp/runs/{run}/gen_trajs_{number}.npy'\n",
    "gen = np.load(path)\n",
    "\n",
    "M = gen.max()\n",
    "m = gen.min()\n",
    "print('massimo, minimo: ',M,m)\n",
    "\n",
    "#db = np.load('/scratch/scarpolini/databases/velocities.npy')[:,:,0]\n",
    "#M = db.max() \n",
    "M = 10.273698864467972\n",
    "#m = db.min()\n",
    "m = -9.970374739869616\n",
    "semidisp = (M-m)/2.\n",
    "media = (M+m)/2.\n",
    "gen = gen*semidisp + media\n",
    "print('veri',M,m)\n",
    "M = gen.max()\n",
    "m = gen.min()\n",
    "print('generati',M,m)"
   ]
  },
  {
   "cell_type": "markdown",
   "metadata": {},
   "source": [
    "# PDF V_x e A_x"
   ]
  },
  {
   "cell_type": "code",
   "execution_count": 5,
   "metadata": {},
   "outputs": [
    {
     "data": {
      "image/png": "[encoded data removed]",
      "text/plain": [
       "<Figure size 1080x360 with 2 Axes>"
      ]
     },
     "metadata": {
      "needs_background": "light"
     },
     "output_type": "display_data"
    }
   ],
   "source": [
    "fig, (ax1, ax2) = plt.subplots(1,2,figsize=(15,5))\n",
    "fig.suptitle('PDF Traiettorie')\n",
    "hist, bin_edges = load_pdf('data/pdf_vx')\n",
    "ax1.hist(gen.flatten(), bins=300, label='fake', alpha=0.4, density=True)\n",
    "ax1.hist(bin_edges[:-1], bin_edges, weights=hist, alpha=0.4, label='True')\n",
    "ax1.set_xlabel('trajectory')\n",
    "ax1.set_ylabel('pdf')\n",
    "ax1.set_xlim([-7.5,7.5])\n",
    "ax1.legend()\n",
    "ax2.hist(gen.flatten(), bins=300, label='fake', alpha=0.4, density=True)\n",
    "ax2.hist(bin_edges[:-1], bin_edges, weights=hist, alpha=0.4, label='True')\n",
    "ax2.set_xlabel('trajectory')\n",
    "ax2.set_ylabel('pdf')\n",
    "ax2.legend()\n",
    "ax2.set_yscale('log')\n",
    "\n",
    "fig.savefig(f'plots/gan_test_d0_{run}_{number}.png', fmt='png', dpi=100)\n",
    "plt.show()"
   ]
  },
  {
   "cell_type": "code",
   "execution_count": 6,
   "metadata": {},
   "outputs": [],
   "source": [
    "gm = np.gradient(gen,axis=1)"
   ]
  },
  {
   "cell_type": "code",
   "execution_count": 7,
   "metadata": {},
   "outputs": [
    {
     "data": {
      "image/png": "[encoded data removed]",
      "text/plain": [
       "<Figure size 1080x360 with 2 Axes>"
      ]
     },
     "metadata": {
      "needs_background": "light"
     },
     "output_type": "display_data"
    }
   ],
   "source": [
    "fig, (ax1, ax2) = plt.subplots(1,2,figsize=(15,5))\n",
    "fig.suptitle('PDF Derivata prima')\n",
    "hist, bin_edges = load_pdf('data/pdf_ax')\n",
    "\n",
    "ax1.hist(bin_edges[:-1], bin_edges, weights=hist, alpha=0.4, label='true')\n",
    "ax1.hist(gm.flatten(), bins=300, label='fake', alpha=0.4, density=True)\n",
    "ax1.legend()\n",
    "ax1.set_xlabel('gradient of trajectory')\n",
    "ax1.set_ylabel('pdf')\n",
    "ax1.set_xlim([-0.3,0.3])\n",
    "\n",
    "ax2.hist(bin_edges[:-1], bin_edges, weights=hist, alpha=0.4, label='true')\n",
    "ax2.hist(gm.flatten(), bins=300, label='fake', alpha=0.4, density=True)\n",
    "ax2.legend()\n",
    "ax2.set_xlabel('gradient of trajectory')\n",
    "ax2.set_ylabel('pdf')\n",
    "ax2.set_yscale('log')\n",
    "\n",
    "fig.savefig(f'plots/gan_test_d1_{run}_{number}.png', fmt='png', dpi=100)\n",
    "plt.show()"
   ]
  },
  {
   "cell_type": "markdown",
   "metadata": {},
   "source": [
    "# ACF_x"
   ]
  },
  {
   "cell_type": "code",
   "execution_count": null,
   "metadata": {},
   "outputs": [
    {
     "name": "stdout",
     "output_type": "stream",
     "text": [
      "38745 / 500000000/ 50000/ 5000050000\r"
     ]
    }
   ],
   "source": [
    "mean = np.load('../databases/velocities_acf_mean_and_std.npy')[0,:,0]\n",
    "std = np.load('../databases/velocities_acf_mean_and_std.npy')[1,:,0]\n",
    "plt.figure(figsize=(8,6))\n",
    "l, caps, c = plt.errorbar(np.arange(2000), mean, std, lw=0, marker='^', errorevery=40,\n",
    "                          ms=2, elinewidth=1, uplims=True, lolims=True, capsize=2, label='Real')\n",
    "for cap in caps:\n",
    "    cap.set_marker(\"_\")\n",
    "\n",
    "try: acfs = np.load(f'data/acf_x_gen_{run}_{number}.npy')\n",
    "except:\n",
    "    acfs = acf_gen_x(gen)\n",
    "    np.save(f'data/acf_x_gen_{run}_{number}',acfs)\n",
    "    \n",
    "mean = acfs.mean(axis=0)\n",
    "std = acfs.std(axis=0)\n",
    "l, caps, c = plt.errorbar(np.arange(2000), mean, std, lw=0, marker='^', errorevery=40,\n",
    "                          ms=2, elinewidth=1, uplims=True, lolims=True, capsize=2, label='Fake')\n",
    "for cap in caps:\n",
    "    cap.set_marker(\"_\")\n",
    "\n",
    "plt.title('funzione autocorrelazione particelle lagrangiane x')\n",
    "plt.xlim([0,2000])\n",
    "plt.xlabel('tau')\n",
    "plt.legend()\n",
    "plt.ylabel('autocorrelazione')\n",
    "plt.savefig(f'plots/gan_test_acfx_{run}_{number}.png', fmt='png', dpi=100)\n",
    "plt.show()"
   ]
  },
  {
   "cell_type": "markdown",
   "metadata": {},
   "source": [
    "# Exit time"
   ]
  },
  {
   "cell_type": "markdown",
   "metadata": {},
   "source": [
    "# Plot Traiettorie Generate e Reali"
   ]
  },
  {
   "cell_type": "code",
   "execution_count": null,
   "metadata": {},
   "outputs": [],
   "source": [
    "db = np.load('../databases/velocities.npy')[:,:,0]"
   ]
  },
  {
   "cell_type": "code",
   "execution_count": null,
   "metadata": {},
   "outputs": [],
   "source": [
    "idx1 = np.random.randint(0, db.shape[0], 2)\n",
    "idx2 = np.random.randint(0, gen.shape[0], 2)\n",
    "trajs = db[idx1]\n",
    "gen_trajs = gen[idx2]\n",
    "plt.figure(figsize=(11, 2*len(trajs)+2*len(gen_trajs)))\n",
    "plt.title('esempi di traiettorie vere e generate')\n",
    "\n",
    "for i, traj in enumerate(trajs):\n",
    "    plt.subplot(len(trajs)+len(gen_trajs), 1, i+1)\n",
    "    plt.plot(traj, color='red', label='real')\n",
    "    plt.legend()\n",
    "\n",
    "for i, traj in enumerate(gen_trajs):\n",
    "    plt.subplot(len(trajs)+len(gen_trajs), 1, i+1+len(trajs))\n",
    "    plt.plot(traj, label='generated')\n",
    "    plt.legend()\n",
    "\n",
    "plt.tight_layout()\n",
    "plt.savefig(f'plots/gan_test_trajs_{run}_{number}.png', fmt='png', dpi=100)\n",
    "plt.show()"
   ]
  },
  {
   "cell_type": "code",
   "execution_count": null,
   "metadata": {},
   "outputs": [],
   "source": []
  }
 ],
 "metadata": {
  "kernelspec": {
   "display_name": "Python 3",
   "language": "python",
   "name": "python3"
  },
  "language_info": {
   "codemirror_mode": {
    "name": "ipython",
    "version": 3
   },
   "file_extension": ".py",
   "mimetype": "text/x-python",
   "name": "python",
   "nbconvert_exporter": "python",
   "pygments_lexer": "ipython3",
   "version": "3.6.8"
  }
 },
 "nbformat": 4,
 "nbformat_minor": 4
}
