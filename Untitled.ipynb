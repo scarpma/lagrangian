{
 "cells": [
  {
   "cell_type": "code",
   "execution_count": 2,
   "metadata": {},
   "outputs": [
    {
     "ename": "ModuleNotFoundError",
     "evalue": "No module named 'wgan'",
     "output_type": "error",
     "traceback": [
      "\u001b[0;31m---------------------------------------------------------------------------\u001b[0m",
      "\u001b[0;31mModuleNotFoundError\u001b[0m                       Traceback (most recent call last)",
      "\u001b[0;32m<ipython-input-2-a9b1bb4795a4>\u001b[0m in \u001b[0;36m<module>\u001b[0;34m\u001b[0m\n\u001b[0;32m----> 1\u001b[0;31m \u001b[0;32mfrom\u001b[0m \u001b[0mwgan\u001b[0m\u001b[0;34m.\u001b[0m\u001b[0mdb_utils\u001b[0m \u001b[0;32mimport\u001b[0m \u001b[0;34m*\u001b[0m\u001b[0;34m\u001b[0m\u001b[0;34m\u001b[0m\u001b[0m\n\u001b[0m\u001b[1;32m      2\u001b[0m \u001b[0;34m\u001b[0m\u001b[0m\n\u001b[1;32m      3\u001b[0m \u001b[0;32mdef\u001b[0m \u001b[0mbuild_generator\u001b[0m\u001b[0;34m(\u001b[0m\u001b[0mfs\u001b[0m\u001b[0;34m,\u001b[0m \u001b[0mfm\u001b[0m\u001b[0;34m,\u001b[0m \u001b[0minit_sigma\u001b[0m\u001b[0;34m,\u001b[0m \u001b[0minit_mean\u001b[0m\u001b[0;34m,\u001b[0m \u001b[0malpha\u001b[0m\u001b[0;34m,\u001b[0m \u001b[0mnoise_dim\u001b[0m\u001b[0;34m)\u001b[0m\u001b[0;34m:\u001b[0m\u001b[0;34m\u001b[0m\u001b[0;34m\u001b[0m\u001b[0m\n\u001b[1;32m      4\u001b[0m     \"\"\" \n\u001b[1;32m      5\u001b[0m     \u001b[0mfs\u001b[0m \u001b[0;34m=\u001b[0m \u001b[0;34m(\u001b[0m\u001b[0;36m20\u001b[0m\u001b[0;34m,\u001b[0m\u001b[0;36m1\u001b[0m\u001b[0;34m)\u001b[0m \u001b[0mdimensione\u001b[0m \u001b[0mfiltro\u001b[0m\u001b[0;34m\u001b[0m\u001b[0;34m\u001b[0m\u001b[0m\n",
      "\u001b[0;31mModuleNotFoundError\u001b[0m: No module named 'wgan'"
     ]
    }
   ],
   "source": [
    "from wgan.db_utils import *\n",
    "\n",
    "def build_generator(fs, fm, init_sigma, init_mean, alpha, noise_dim):\n",
    "    \"\"\" \n",
    "    fs = (20,1) dimensione filtro\n",
    "    fm = 4 numero di filtri\n",
    "    init_sigma = 0.2 varianza distribuzione normale per l'inizializzazione dei pesi del  modello\n",
    "    init_mean = 0.03 media distribuzione normale per l'inizializzazione dei pesi del  modello\n",
    "    alpha = 0.3 pendenza parte negativa del leaky relu\n",
    "    \"\"\"\n",
    "    reg = l2(l=0.001)\n",
    "    generator = Sequential()\n",
    "    # Starting size\n",
    "    generator.add(Dense(25*fm, kernel_regularizer=reg, bias_regularizer=reg, kernel_initializer=RandomNormal(init_mean, init_sigma), input_dim=noise_dim))\n",
    "    #generator.add(ELU())\n",
    "    generator.add(ReLU())\n",
    "    #20x1\n",
    "    generator.add(Reshape((25, 1, fm)))\n",
    "    #5x4\n",
    "    generator.add(BatchNormalization(momentum=0.8))\n",
    "    generator.add(Conv2DTranspose(fm//2, fs, strides=(5,1), padding='same', kernel_regularizer=reg, bias_regularizer=reg, kernel_initializer=RandomNormal(init_mean, init_sigma)))\n",
    "    #generator.add(ELU())\n",
    "    generator.add(ReLU())\n",
    "    #50x4\n",
    "    generator.add(BatchNormalization(momentum=0.8))\n",
    "    generator.add(Conv2DTranspose(fm//4, fs, strides=(2,1), padding='same', kernel_regularizer=reg, bias_regularizer=reg, kernel_initializer=RandomNormal(init_mean, init_sigma)))\n",
    "    #generator.add(ELU())\n",
    "    generator.add(ReLU())\n",
    "    generator.add(BatchNormalization(momentum=0.8))\n",
    "    generator.add(Conv2DTranspose(fm//8, fs, strides=(2,1), padding='same', kernel_regularizer=reg, bias_regularizer=reg, kernel_initializer=RandomNormal(init_mean, init_sigma)))\n",
    "    #generator.add(ELU())\n",
    "    generator.add(ReLU())\n",
    "    #50x4\n",
    "    generator.add(BatchNormalization(momentum=0.8))\n",
    "    generator.add(Conv2DTranspose(fm//16, fs, strides=(2,1), padding='same', kernel_regularizer=reg, bias_regularizer=reg, kernel_initializer=RandomNormal(init_mean, init_sigma)))\n",
    "    #generator.add(ELU())\n",
    "    generator.add(ReLU())\n",
    "    generator.add(BatchNormalization(momentum=0.8))\n",
    "    generator.add(Conv2DTranspose(1, fs, strides=(2,1), padding='same', kernel_regularizer=reg, bias_regularizer=reg, kernel_initializer=RandomNormal(init_mean, init_sigma)))\n",
    "    generator.add(Activation(\"tanh\"))\n",
    "    \n",
    "    # convolutional layer with a single filter that could perform the denoise of the signal.\n",
    "    #generator.add(Conv2DTranspose(1, (10,1), padding='same', kernel_initializer=RandomNormal(init_mean, init_sigma)))\n",
    "\n",
    "    generator.add(Reshape((2000, 1)))\n",
    "    generator.summary()\n",
    "\n",
    "\n",
    "    return generator"
   ]
  },
  {
   "cell_type": "code",
   "execution_count": null,
   "metadata": {},
   "outputs": [],
   "source": []
  }
 ],
 "metadata": {
  "kernelspec": {
   "display_name": "Python 3",
   "language": "python",
   "name": "python3"
  },
  "language_info": {
   "codemirror_mode": {
    "name": "ipython",
    "version": 3
   },
   "file_extension": ".py",
   "mimetype": "text/x-python",
   "name": "python",
   "nbconvert_exporter": "python",
   "pygments_lexer": "ipython3",
   "version": "3.6.8"
  }
 },
 "nbformat": 4,
 "nbformat_minor": 4
}
