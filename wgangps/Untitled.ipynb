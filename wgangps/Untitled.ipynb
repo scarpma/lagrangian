{
 "cells": [
  {
   "cell_type": "code",
   "execution_count": 12,
   "metadata": {},
   "outputs": [],
   "source": [
    "from db_utils import *\n",
    "from wgan import *\n",
    "from gen import *\n",
    "from critic import *"
   ]
  },
  {
   "cell_type": "code",
   "execution_count": 13,
   "metadata": {},
   "outputs": [
    {
     "name": "stdout",
     "output_type": "stream",
     "text": [
      "(327680, 2000, 1)\n",
      "10.273698864467972 -9.970374739869616\n",
      "1.0 -1.0\n"
     ]
    }
   ],
   "source": [
    "db_train, db_test = load_data(0.8)"
   ]
  },
  {
   "cell_type": "code",
   "execution_count": 27,
   "metadata": {},
   "outputs": [
    {
     "name": "stderr",
     "output_type": "stream",
     "text": [
      "W0717 16:02:52.339962 47905375489536 hdf5_format.py:221] No training configuration found in save file: the model was *not* compiled. Compile it manually.\n",
      "W0717 16:02:53.777584 47905375489536 hdf5_format.py:221] No training configuration found in save file: the model was *not* compiled. Compile it manually.\n"
     ]
    }
   ],
   "source": [
    "run = 34\n",
    "number = 198\n",
    "path_gen = f'runs/{run}/{number}_gen.h5'\n",
    "path_critic = f'runs/{run}/{number}_critic.h5'\n",
    "gen = load_model(path_gen)\n",
    "critic = load_model(path_critic)\n",
    "critic.trainable = True"
   ]
  },
  {
   "cell_type": "code",
   "execution_count": 28,
   "metadata": {},
   "outputs": [
    {
     "name": "stdout",
     "output_type": "stream",
     "text": [
      "\n",
      "NCRITIC = 5\n",
      "\n",
      "Gen_Iter:      0 [D loss: -1.33e-02] [d_loss_test: 0.00e+00] [G loss: 1.71e+00]\n",
      "Gen_Iter:      1 [D loss: -3.58e-02] [d_loss_test: 0.00e+00] [G loss: 2.72e+00]\n",
      "Gen_Iter:      2 [D loss: -3.74e-02] [d_loss_test: 0.00e+00] [G loss: 2.71e+00]\n",
      "Gen_Iter:      3 [D loss: -5.30e-02] [d_loss_test: 0.00e+00] [G loss: 2.58e+00]\n",
      "Gen_Iter:      4 [D loss: -5.54e-02] [d_loss_test: 0.00e+00] [G loss: 2.68e+00]\n",
      "Gen_Iter:      5 [D loss: -6.78e-02] [d_loss_test: 0.00e+00] [G loss: 2.10e+00]\n",
      "Gen_Iter:      6 [D loss: -2.04e-02] [d_loss_test: 0.00e+00] [G loss: 2.11e+00]\n",
      "Gen_Iter:      7 [D loss: -2.28e-02] [d_loss_test: 0.00e+00] [G loss: 2.42e+00]\n",
      "Gen_Iter:      8 [D loss: -9.30e-02] [d_loss_test: 0.00e+00] [G loss: 2.61e+00]\n",
      "Gen_Iter:      9 [D loss: -1.03e-01] [d_loss_test: 0.00e+00] [G loss: 2.80e+00]\n",
      "Gen_Iter:     10 [D loss: -4.71e-02] [d_loss_test: 0.00e+00] [G loss: 3.17e+00]\n",
      "Gen_Iter:     11 [D loss: -6.97e-02] [d_loss_test: 0.00e+00] [G loss: 2.12e+00]\n",
      "Gen_Iter:     12 [D loss: -4.40e-02] [d_loss_test: 0.00e+00] [G loss: 2.18e+00]\n",
      "Gen_Iter:     13 [D loss: -3.49e-02] [d_loss_test: 0.00e+00] [G loss: 2.49e+00]\n",
      "Gen_Iter:     14 [D loss: -4.27e-02] [d_loss_test: 0.00e+00] [G loss: 2.09e+00]\n",
      "Gen_Iter:     15 [D loss: -7.49e-02] [d_loss_test: 0.00e+00] [G loss: 1.90e+00]\n",
      "Gen_Iter:     16 [D loss: -1.18e-02] [d_loss_test: 0.00e+00] [G loss: 1.97e+00]\n",
      "Gen_Iter:     17 [D loss: -5.42e-02] [d_loss_test: 0.00e+00] [G loss: 2.08e+00]\n",
      "Gen_Iter:     18 [D loss: -2.16e-02] [d_loss_test: 0.00e+00] [G loss: 1.71e+00]\n",
      "Gen_Iter:     19 [D loss: -6.37e-02] [d_loss_test: 0.00e+00] [G loss: 1.46e+00]\n",
      "Gen_Iter:     20 [D loss: -6.50e-02] [d_loss_test: 0.00e+00] [G loss: 1.96e+00]\n",
      "Gen_Iter:     21 [D loss: -4.12e-02] [d_loss_test: 0.00e+00] [G loss: 1.95e+00]\n",
      "Gen_Iter:     22 [D loss: -4.83e-03] [d_loss_test: 0.00e+00] [G loss: 2.56e+00]\n",
      "Gen_Iter:     23 [D loss: -5.39e-02] [d_loss_test: 0.00e+00] [G loss: 1.90e+00]\n",
      "Gen_Iter:     24 [D loss: -3.60e-02] [d_loss_test: 0.00e+00] [G loss: 1.71e+00]\n",
      "Gen_Iter:     25 [D loss: -2.47e-02] [d_loss_test: 0.00e+00] [G loss: 2.05e+00]\n",
      "Gen_Iter:     26 [D loss: -6.09e-02] [d_loss_test: 0.00e+00] [G loss: 1.71e+00]\n",
      "Gen_Iter:     27 [D loss: -3.21e-02] [d_loss_test: 0.00e+00] [G loss: 2.34e+00]\n",
      "Gen_Iter:     28 [D loss: -6.23e-03] [d_loss_test: 0.00e+00] [G loss: 2.13e+00]\n",
      "Gen_Iter:     29 [D loss: -5.01e-02] [d_loss_test: 0.00e+00] [G loss: 1.73e+00]\n",
      "Gen_Iter:     30 [D loss: -5.77e-02] [d_loss_test: 0.00e+00] [G loss: 2.12e+00]\n",
      "Gen_Iter:     31 [D loss: -1.79e-03] [d_loss_test: 0.00e+00] [G loss: 1.59e+00]\n",
      "Gen_Iter:     32 [D loss: -2.63e-02] [d_loss_test: 0.00e+00] [G loss: 2.02e+00]\n",
      "Gen_Iter:     33 [D loss: -1.13e-01] [d_loss_test: 0.00e+00] [G loss: 1.62e+00]\n",
      "Gen_Iter:     34 [D loss: -3.86e-02] [d_loss_test: 0.00e+00] [G loss: 2.18e+00]\n",
      "Gen_Iter:     35 [D loss: -4.58e-02] [d_loss_test: 0.00e+00] [G loss: 2.50e+00]\n",
      "Gen_Iter:     36 [D loss: 3.48e-03] [d_loss_test: 0.00e+00] [G loss: 2.96e+00]\n",
      "Gen_Iter:     37 [D loss: -5.74e-02] [d_loss_test: 0.00e+00] [G loss: 3.07e+00]\n",
      "Gen_Iter:     38 [D loss: -9.40e-02] [d_loss_test: 0.00e+00] [G loss: 4.08e+00]\n",
      "Gen_Iter:     39 [D loss: -5.28e-02] [d_loss_test: 0.00e+00] [G loss: 3.94e+00]\n",
      "Gen_Iter:     40 [D loss: -4.44e-02] [d_loss_test: 0.00e+00] [G loss: 3.47e+00]\n",
      "Gen_Iter:     41 [D loss: -1.34e-01] [d_loss_test: 0.00e+00] [G loss: 2.92e+00]\n",
      "Gen_Iter:     42 [D loss: 7.68e-03] [d_loss_test: 0.00e+00] [G loss: 2.33e+00]\n",
      "Gen_Iter:     43 [D loss: -8.97e-02] [d_loss_test: 0.00e+00] [G loss: 1.81e+00]\n",
      "Gen_Iter:     44 [D loss: 4.58e-02] [d_loss_test: 0.00e+00] [G loss: 2.42e+00]\n",
      "Gen_Iter:     45 [D loss: -1.00e-01] [d_loss_test: 0.00e+00] [G loss: 2.75e+00]\n",
      "Gen_Iter:     46 [D loss: 1.26e-02] [d_loss_test: 0.00e+00] [G loss: 2.27e+00]\n",
      "Gen_Iter:     47 [D loss: -5.22e-02] [d_loss_test: 0.00e+00] [G loss: 2.70e+00]\n",
      "Gen_Iter:     48 [D loss: -4.38e-02] [d_loss_test: 0.00e+00] [G loss: 2.88e+00]\n",
      "Gen_Iter:     49 [D loss: -1.25e-02] [d_loss_test: 0.00e+00] [G loss: 2.94e+00]\n",
      "Gen_Iter:     50 [D loss: -2.69e-02] [d_loss_test: 0.00e+00] [G loss: 2.61e+00]\n",
      "Gen_Iter:     51 [D loss: -5.39e-02] [d_loss_test: 0.00e+00] [G loss: 2.52e+00]\n",
      "Gen_Iter:     52 [D loss: 1.58e-02] [d_loss_test: 0.00e+00] [G loss: 1.99e+00]\n",
      "Gen_Iter:     53 [D loss: -3.97e-02] [d_loss_test: 0.00e+00] [G loss: 2.48e+00]\n",
      "Gen_Iter:     54 [D loss: -3.63e-02] [d_loss_test: 0.00e+00] [G loss: 3.09e+00]\n",
      "Gen_Iter:     55 [D loss: -3.12e-02] [d_loss_test: 0.00e+00] [G loss: 2.42e+00]\n",
      "Gen_Iter:     56 [D loss: -5.88e-02] [d_loss_test: 0.00e+00] [G loss: 3.11e+00]\n",
      "Gen_Iter:     57 [D loss: -4.29e-02] [d_loss_test: 0.00e+00] [G loss: 3.57e+00]\n",
      "Gen_Iter:     58 [D loss: -5.12e-02] [d_loss_test: 0.00e+00] [G loss: 3.21e+00]\n",
      "Gen_Iter:     59 [D loss: -9.67e-03] [d_loss_test: 0.00e+00] [G loss: 2.33e+00]\n",
      "Gen_Iter:     60 [D loss: -4.79e-02] [d_loss_test: 0.00e+00] [G loss: 3.11e+00]\n",
      "Gen_Iter:     61 [D loss: -4.32e-02] [d_loss_test: 0.00e+00] [G loss: 2.64e+00]\n",
      "Gen_Iter:     62 [D loss: -6.36e-02] [d_loss_test: 0.00e+00] [G loss: 1.91e+00]\n",
      "Gen_Iter:     63 [D loss: -1.02e-01] [d_loss_test: 0.00e+00] [G loss: 2.13e+00]\n",
      "Gen_Iter:     64 [D loss: -2.57e-02] [d_loss_test: 0.00e+00] [G loss: 1.37e+00]\n",
      "Gen_Iter:     65 [D loss: 1.66e-03] [d_loss_test: 0.00e+00] [G loss: 1.19e+00]\n",
      "Gen_Iter:     66 [D loss: -2.60e-02] [d_loss_test: 0.00e+00] [G loss: 1.79e+00]\n",
      "Gen_Iter:     67 [D loss: 1.93e-02] [d_loss_test: 0.00e+00] [G loss: 2.96e+00]\n",
      "Gen_Iter:     68 [D loss: -2.85e-02] [d_loss_test: 0.00e+00] [G loss: 2.97e+00]\n",
      "Gen_Iter:     69 [D loss: -4.39e-02] [d_loss_test: 0.00e+00] [G loss: 2.72e+00]\n",
      "Gen_Iter:     70 [D loss: -2.31e-02] [d_loss_test: 0.00e+00] [G loss: 2.53e+00]\n",
      "Gen_Iter:     71 [D loss: -1.69e-02] [d_loss_test: 0.00e+00] [G loss: 2.84e+00]\n",
      "Gen_Iter:     72 [D loss: -3.34e-02] [d_loss_test: 0.00e+00] [G loss: 3.69e+00]\n",
      "Gen_Iter:     73 [D loss: -4.43e-02] [d_loss_test: 0.00e+00] [G loss: 3.97e+00]\n",
      "Gen_Iter:     74 [D loss: -8.55e-03] [d_loss_test: 0.00e+00] [G loss: 3.27e+00]\n",
      "Gen_Iter:     75 [D loss: -4.71e-02] [d_loss_test: 0.00e+00] [G loss: 2.91e+00]\n",
      "Gen_Iter:     76 [D loss: -3.04e-02] [d_loss_test: 0.00e+00] [G loss: 2.77e+00]\n",
      "Gen_Iter:     77 [D loss: -7.64e-02] [d_loss_test: 0.00e+00] [G loss: 2.28e+00]\n",
      "Gen_Iter:     78 [D loss: 1.55e-02] [d_loss_test: 0.00e+00] [G loss: 2.12e+00]\n",
      "Gen_Iter:     79 [D loss: -5.27e-02] [d_loss_test: 0.00e+00] [G loss: 2.34e+00]\n",
      "Gen_Iter:     80 [D loss: 9.88e-03] [d_loss_test: 0.00e+00] [G loss: 2.85e+00]\n",
      "Gen_Iter:     81 [D loss: -1.19e-02] [d_loss_test: 0.00e+00] [G loss: 2.65e+00]\n",
      "Gen_Iter:     82 [D loss: -7.71e-02] [d_loss_test: 0.00e+00] [G loss: 2.56e+00]\n",
      "Gen_Iter:     83 [D loss: -2.81e-02] [d_loss_test: 0.00e+00] [G loss: 3.37e+00]\n",
      "Gen_Iter:     84 [D loss: -3.92e-02] [d_loss_test: 0.00e+00] [G loss: 3.52e+00]\n",
      "Gen_Iter:     85 [D loss: -9.64e-02] [d_loss_test: 0.00e+00] [G loss: 3.57e+00]\n",
      "Gen_Iter:     86 [D loss: -7.33e-02] [d_loss_test: 0.00e+00] [G loss: 2.95e+00]\n",
      "Gen_Iter:     87 [D loss: -5.47e-02] [d_loss_test: 0.00e+00] [G loss: 3.08e+00]\n",
      "Gen_Iter:     88 [D loss: 1.60e-02] [d_loss_test: 0.00e+00] [G loss: 2.99e+00]\n",
      "Gen_Iter:     89 [D loss: -3.90e-02] [d_loss_test: 0.00e+00] [G loss: 3.11e+00]\n",
      "Gen_Iter:     90 [D loss: 3.59e-02] [d_loss_test: 0.00e+00] [G loss: 2.96e+00]\n",
      "Gen_Iter:     91 [D loss: -4.98e-02] [d_loss_test: 0.00e+00] [G loss: 2.90e+00]\n",
      "Gen_Iter:     92 [D loss: -4.85e-02] [d_loss_test: 0.00e+00] [G loss: 2.38e+00]\n",
      "Gen_Iter:     93 [D loss: -5.70e-02] [d_loss_test: 0.00e+00] [G loss: 2.43e+00]\n",
      "Gen_Iter:     94 [D loss: 1.87e-04] [d_loss_test: 0.00e+00] [G loss: 2.58e+00]\n",
      "Gen_Iter:     95 [D loss: -1.18e-02] [d_loss_test: 0.00e+00] [G loss: 3.44e+00]\n",
      "Gen_Iter:     96 [D loss: -2.35e-02] [d_loss_test: 0.00e+00] [G loss: 3.63e+00]\n",
      "Gen_Iter:     97 [D loss: 1.97e-02] [d_loss_test: 0.00e+00] [G loss: 3.20e+00]\n",
      "Gen_Iter:     98 [D loss: -3.12e-02] [d_loss_test: 0.00e+00] [G loss: 3.42e+00]\n",
      "Gen_Iter:     99 [D loss: -6.79e-02] [d_loss_test: 0.00e+00] [G loss: 2.67e+00]\n",
      "Gen_Iter:    100 [D loss: -3.83e-02] [d_loss_test: 0.00e+00] [G loss: 2.66e+00]\n",
      "Gen_Iter:    101 [D loss: -5.07e-03] [d_loss_test: 0.00e+00] [G loss: 3.40e+00]\n",
      "Gen_Iter:    102 [D loss: -2.39e-02] [d_loss_test: 0.00e+00] [G loss: 2.61e+00]\n",
      "Gen_Iter:    103 [D loss: -3.13e-02] [d_loss_test: 0.00e+00] [G loss: 3.39e+00]\n",
      "Gen_Iter:    104 [D loss: 6.07e-03] [d_loss_test: 0.00e+00] [G loss: 2.94e+00]\n",
      "Gen_Iter:    105 [D loss: -1.70e-02] [d_loss_test: 0.00e+00] [G loss: 3.47e+00]\n",
      "Gen_Iter:    106 [D loss: -5.72e-02] [d_loss_test: 0.00e+00] [G loss: 2.97e+00]\n",
      "Gen_Iter:    107 [D loss: -3.78e-03] [d_loss_test: 0.00e+00] [G loss: 3.29e+00]\n",
      "Gen_Iter:    108 [D loss: -2.91e-02] [d_loss_test: 0.00e+00] [G loss: 2.43e+00]\n",
      "Gen_Iter:    109 [D loss: -1.57e-02] [d_loss_test: 0.00e+00] [G loss: 2.39e+00]\n",
      "Gen_Iter:    110 [D loss: -1.26e-04] [d_loss_test: 0.00e+00] [G loss: 2.15e+00]\n",
      "Gen_Iter:    111 [D loss: 2.70e-02] [d_loss_test: 0.00e+00] [G loss: 2.72e+00]\n",
      "Gen_Iter:    112 [D loss: -5.29e-02] [d_loss_test: 0.00e+00] [G loss: 2.66e+00]\n",
      "Gen_Iter:    113 [D loss: 8.47e-03] [d_loss_test: 0.00e+00] [G loss: 3.45e+00]\n",
      "Gen_Iter:    114 [D loss: -3.05e-02] [d_loss_test: 0.00e+00] [G loss: 3.72e+00]\n",
      "Gen_Iter:    115 [D loss: -3.74e-02] [d_loss_test: 0.00e+00] [G loss: 4.36e+00]\n",
      "Gen_Iter:    116 [D loss: -5.61e-02] [d_loss_test: 0.00e+00] [G loss: 3.02e+00]\n",
      "Gen_Iter:    117 [D loss: -4.16e-02] [d_loss_test: 0.00e+00] [G loss: 2.94e+00]\n",
      "Gen_Iter:    118 [D loss: -2.17e-03] [d_loss_test: 0.00e+00] [G loss: 3.30e+00]\n",
      "Gen_Iter:    119 [D loss: -3.81e-02] [d_loss_test: 0.00e+00] [G loss: 2.23e+00]\n",
      "Gen_Iter:    120 [D loss: -3.44e-02] [d_loss_test: 0.00e+00] [G loss: 2.21e+00]\n",
      "Gen_Iter:    121 [D loss: 5.09e-03] [d_loss_test: 0.00e+00] [G loss: 2.31e+00]\n",
      "Gen_Iter:    122 [D loss: -3.02e-02] [d_loss_test: 0.00e+00] [G loss: 2.91e+00]\n",
      "Gen_Iter:    123 [D loss: -1.59e-03] [d_loss_test: 0.00e+00] [G loss: 3.09e+00]\n",
      "Gen_Iter:    124 [D loss: -3.33e-02] [d_loss_test: 0.00e+00] [G loss: 2.88e+00]\n",
      "Gen_Iter:    125 [D loss: -1.85e-02] [d_loss_test: 0.00e+00] [G loss: 2.44e+00]\n",
      "Gen_Iter:    126 [D loss: -4.50e-02] [d_loss_test: 0.00e+00] [G loss: 3.13e+00]\n",
      "Gen_Iter:    127 [D loss: -2.70e-02] [d_loss_test: 0.00e+00] [G loss: 3.60e+00]\n",
      "Gen_Iter:    128 [D loss: -5.80e-02] [d_loss_test: 0.00e+00] [G loss: 2.50e+00]\n",
      "Gen_Iter:    129 [D loss: -6.53e-04] [d_loss_test: 0.00e+00] [G loss: 2.16e+00]\n",
      "Gen_Iter:    130 [D loss: -4.84e-02] [d_loss_test: 0.00e+00] [G loss: 3.20e+00]\n",
      "Gen_Iter:    131 [D loss: -2.88e-03] [d_loss_test: 0.00e+00] [G loss: 3.22e+00]\n"
     ]
    },
    {
     "ename": "KeyboardInterrupt",
     "evalue": "",
     "output_type": "error",
     "traceback": [
      "\u001b[0;31m---------------------------------------------------------------------------\u001b[0m",
      "\u001b[0;31mKeyboardInterrupt\u001b[0m                         Traceback (most recent call last)",
      "\u001b[0;32m<ipython-input-28-d5eb503d93a5>\u001b[0m in \u001b[0;36m<module>\u001b[0;34m\u001b[0m\n\u001b[1;32m      1\u001b[0m \u001b[0mwgan\u001b[0m \u001b[0;34m=\u001b[0m \u001b[0mWGANGP\u001b[0m\u001b[0;34m(\u001b[0m\u001b[0mgen\u001b[0m\u001b[0;34m,\u001b[0m \u001b[0mcritic\u001b[0m\u001b[0;34m,\u001b[0m \u001b[0mnoise_dim\u001b[0m\u001b[0;34m=\u001b[0m\u001b[0;36m100\u001b[0m\u001b[0;34m,\u001b[0m \u001b[0mn_critic\u001b[0m\u001b[0;34m=\u001b[0m\u001b[0;36m5\u001b[0m\u001b[0;34m,\u001b[0m \u001b[0mbatch_size\u001b[0m\u001b[0;34m=\u001b[0m\u001b[0;36m500\u001b[0m\u001b[0;34m,\u001b[0m \u001b[0mtext\u001b[0m\u001b[0;34m=\u001b[0m\u001b[0;34m'prova'\u001b[0m\u001b[0;34m)\u001b[0m\u001b[0;34m\u001b[0m\u001b[0;34m\u001b[0m\u001b[0m\n\u001b[0;32m----> 2\u001b[0;31m \u001b[0mwgan\u001b[0m\u001b[0;34m.\u001b[0m\u001b[0mtrain\u001b[0m\u001b[0;34m(\u001b[0m\u001b[0;36m200\u001b[0m\u001b[0;34m,\u001b[0m \u001b[0mdb_train\u001b[0m\u001b[0;34m,\u001b[0m \u001b[0mdb_test\u001b[0m\u001b[0;34m)\u001b[0m\u001b[0;34m\u001b[0m\u001b[0;34m\u001b[0m\u001b[0m\n\u001b[0m",
      "\u001b[0;32m~/lagrangian/wgangp/wgan.py\u001b[0m in \u001b[0;36mtrain\u001b[0;34m(self, gen_iters, db_train, db_test)\u001b[0m\n\u001b[1;32m    202\u001b[0m                 \u001b[0;31m# print(\"init disc train\")\u001b[0m\u001b[0;34m\u001b[0m\u001b[0;34m\u001b[0m\u001b[0;34m\u001b[0m\u001b[0m\n\u001b[1;32m    203\u001b[0m                 d_loss = self.critic_model.train_on_batch([imgs, noise],\n\u001b[0;32m--> 204\u001b[0;31m                                                            [valid, fake, dummy])\n\u001b[0m\u001b[1;32m    205\u001b[0m                 \u001b[0;31m# print(\"disc trained\")\u001b[0m\u001b[0;34m\u001b[0m\u001b[0;34m\u001b[0m\u001b[0;34m\u001b[0m\u001b[0m\n\u001b[1;32m    206\u001b[0m                 \u001b[0;32mif\u001b[0m \u001b[0;34m(\u001b[0m\u001b[0mjj\u001b[0m\u001b[0;34m!=\u001b[0m\u001b[0mself\u001b[0m\u001b[0;34m.\u001b[0m\u001b[0mn_critic\u001b[0m\u001b[0;34m-\u001b[0m\u001b[0;36m1\u001b[0m\u001b[0;34m)\u001b[0m\u001b[0;34m:\u001b[0m \u001b[0mfl\u001b[0m\u001b[0;34m.\u001b[0m\u001b[0mwrite\u001b[0m\u001b[0;34m(\u001b[0m\u001b[0;34m\"%7d %7d %11.4e %11.4e %11.4e %11.4e %11.4e %11.4e %11.4e %11.4e %11.4e\\n\"\u001b[0m\u001b[0;34m%\u001b[0m\u001b[0;34m(\u001b[0m\u001b[0mgen_iter\u001b[0m\u001b[0;34m,\u001b[0m\u001b[0mgen_iter\u001b[0m\u001b[0;34m*\u001b[0m\u001b[0mself\u001b[0m\u001b[0;34m.\u001b[0m\u001b[0mn_critic\u001b[0m\u001b[0;34m+\u001b[0m\u001b[0mjj\u001b[0m\u001b[0;34m,\u001b[0m\u001b[0md_loss\u001b[0m\u001b[0;34m[\u001b[0m\u001b[0;36m0\u001b[0m\u001b[0;34m]\u001b[0m\u001b[0;34m,\u001b[0m\u001b[0md_loss\u001b[0m\u001b[0;34m[\u001b[0m\u001b[0;36m1\u001b[0m\u001b[0;34m]\u001b[0m\u001b[0;34m,\u001b[0m\u001b[0md_loss\u001b[0m\u001b[0;34m[\u001b[0m\u001b[0;36m2\u001b[0m\u001b[0;34m]\u001b[0m\u001b[0;34m,\u001b[0m\u001b[0md_loss\u001b[0m\u001b[0;34m[\u001b[0m\u001b[0;36m3\u001b[0m\u001b[0;34m]\u001b[0m\u001b[0;34m,\u001b[0m\u001b[0md_loss_test\u001b[0m\u001b[0;34m[\u001b[0m\u001b[0;36m0\u001b[0m\u001b[0;34m]\u001b[0m\u001b[0;34m,\u001b[0m\u001b[0md_loss_test\u001b[0m\u001b[0;34m[\u001b[0m\u001b[0;36m1\u001b[0m\u001b[0;34m]\u001b[0m\u001b[0;34m,\u001b[0m\u001b[0md_loss_test\u001b[0m\u001b[0;34m[\u001b[0m\u001b[0;36m2\u001b[0m\u001b[0;34m]\u001b[0m\u001b[0;34m,\u001b[0m\u001b[0md_loss_test\u001b[0m\u001b[0;34m[\u001b[0m\u001b[0;36m3\u001b[0m\u001b[0;34m]\u001b[0m\u001b[0;34m,\u001b[0m\u001b[0mg_loss\u001b[0m\u001b[0;34m)\u001b[0m\u001b[0;34m)\u001b[0m\u001b[0;34m\u001b[0m\u001b[0;34m\u001b[0m\u001b[0m\n",
      "\u001b[0;32m/usr/local/tensorflow/1.14-0/lib/python3.6/site-packages/tensorflow/python/keras/engine/training.py\u001b[0m in \u001b[0;36mtrain_on_batch\u001b[0;34m(self, x, y, sample_weight, class_weight, reset_metrics)\u001b[0m\n\u001b[1;32m   1173\u001b[0m       \u001b[0mself\u001b[0m\u001b[0;34m.\u001b[0m\u001b[0m_update_sample_weight_modes\u001b[0m\u001b[0;34m(\u001b[0m\u001b[0msample_weights\u001b[0m\u001b[0;34m=\u001b[0m\u001b[0msample_weights\u001b[0m\u001b[0;34m)\u001b[0m\u001b[0;34m\u001b[0m\u001b[0;34m\u001b[0m\u001b[0m\n\u001b[1;32m   1174\u001b[0m       \u001b[0mself\u001b[0m\u001b[0;34m.\u001b[0m\u001b[0m_make_train_function\u001b[0m\u001b[0;34m(\u001b[0m\u001b[0;34m)\u001b[0m\u001b[0;34m\u001b[0m\u001b[0;34m\u001b[0m\u001b[0m\n\u001b[0;32m-> 1175\u001b[0;31m       \u001b[0moutputs\u001b[0m \u001b[0;34m=\u001b[0m \u001b[0mself\u001b[0m\u001b[0;34m.\u001b[0m\u001b[0mtrain_function\u001b[0m\u001b[0;34m(\u001b[0m\u001b[0mins\u001b[0m\u001b[0;34m)\u001b[0m  \u001b[0;31m# pylint: disable=not-callable\u001b[0m\u001b[0;34m\u001b[0m\u001b[0;34m\u001b[0m\u001b[0m\n\u001b[0m\u001b[1;32m   1176\u001b[0m \u001b[0;34m\u001b[0m\u001b[0m\n\u001b[1;32m   1177\u001b[0m     \u001b[0;32mif\u001b[0m \u001b[0mreset_metrics\u001b[0m\u001b[0;34m:\u001b[0m\u001b[0;34m\u001b[0m\u001b[0;34m\u001b[0m\u001b[0m\n",
      "\u001b[0;32m/usr/local/tensorflow/1.14-0/lib/python3.6/site-packages/tensorflow/python/keras/backend.py\u001b[0m in \u001b[0;36m__call__\u001b[0;34m(self, inputs)\u001b[0m\n\u001b[1;32m   3290\u001b[0m \u001b[0;34m\u001b[0m\u001b[0m\n\u001b[1;32m   3291\u001b[0m     fetched = self._callable_fn(*array_vals,\n\u001b[0;32m-> 3292\u001b[0;31m                                 run_metadata=self.run_metadata)\n\u001b[0m\u001b[1;32m   3293\u001b[0m     \u001b[0mself\u001b[0m\u001b[0;34m.\u001b[0m\u001b[0m_call_fetch_callbacks\u001b[0m\u001b[0;34m(\u001b[0m\u001b[0mfetched\u001b[0m\u001b[0;34m[\u001b[0m\u001b[0;34m-\u001b[0m\u001b[0mlen\u001b[0m\u001b[0;34m(\u001b[0m\u001b[0mself\u001b[0m\u001b[0;34m.\u001b[0m\u001b[0m_fetches\u001b[0m\u001b[0;34m)\u001b[0m\u001b[0;34m:\u001b[0m\u001b[0;34m]\u001b[0m\u001b[0;34m)\u001b[0m\u001b[0;34m\u001b[0m\u001b[0;34m\u001b[0m\u001b[0m\n\u001b[1;32m   3294\u001b[0m     output_structure = nest.pack_sequence_as(\n",
      "\u001b[0;32m/usr/local/tensorflow/1.14-0/lib/python3.6/site-packages/tensorflow/python/client/session.py\u001b[0m in \u001b[0;36m__call__\u001b[0;34m(self, *args, **kwargs)\u001b[0m\n\u001b[1;32m   1456\u001b[0m         ret = tf_session.TF_SessionRunCallable(self._session._session,\n\u001b[1;32m   1457\u001b[0m                                                \u001b[0mself\u001b[0m\u001b[0;34m.\u001b[0m\u001b[0m_handle\u001b[0m\u001b[0;34m,\u001b[0m \u001b[0margs\u001b[0m\u001b[0;34m,\u001b[0m\u001b[0;34m\u001b[0m\u001b[0;34m\u001b[0m\u001b[0m\n\u001b[0;32m-> 1458\u001b[0;31m                                                run_metadata_ptr)\n\u001b[0m\u001b[1;32m   1459\u001b[0m         \u001b[0;32mif\u001b[0m \u001b[0mrun_metadata\u001b[0m\u001b[0;34m:\u001b[0m\u001b[0;34m\u001b[0m\u001b[0;34m\u001b[0m\u001b[0m\n\u001b[1;32m   1460\u001b[0m           \u001b[0mproto_data\u001b[0m \u001b[0;34m=\u001b[0m \u001b[0mtf_session\u001b[0m\u001b[0;34m.\u001b[0m\u001b[0mTF_GetBuffer\u001b[0m\u001b[0;34m(\u001b[0m\u001b[0mrun_metadata_ptr\u001b[0m\u001b[0;34m)\u001b[0m\u001b[0;34m\u001b[0m\u001b[0;34m\u001b[0m\u001b[0m\n",
      "\u001b[0;31mKeyboardInterrupt\u001b[0m: "
     ]
    }
   ],
   "source": [
    "wgan = WGANGP(gen, critic, noise_dim=100, n_critic=5, batch_size=500, text='prova')\n",
    "wgan.train(200, db_train, db_test)"
   ]
  },
  {
   "cell_type": "code",
   "execution_count": 61,
   "metadata": {},
   "outputs": [],
   "source": [
    "gen.save_weights('gen_weights.h5',overwrite=True)\n",
    "critic.save_weights('critic_weights.h5',overwrite=True)\n",
    "gen_arch = gen.to_json()\n",
    "critic_arch = critic.to_json()"
   ]
  },
  {
   "cell_type": "code",
   "execution_count": 62,
   "metadata": {},
   "outputs": [],
   "source": [
    "from tensorflow.keras.models import model_from_json\n",
    "gennn = model_from_json(gen_arch)\n",
    "criticnn = model_from_json(critic_arch)\n",
    "criticnn.load_weights(\"critic_weights.h5\")\n",
    "gennn.load_weights(\"gen_weights.h5\")"
   ]
  },
  {
   "cell_type": "code",
   "execution_count": 10,
   "metadata": {},
   "outputs": [
    {
     "name": "stderr",
     "output_type": "stream",
     "text": [
      "W0717 15:29:49.892136 47905375489536 deprecation.py:506] From /usr/local/tensorflow/1.14-0/lib/python3.6/site-packages/tensorflow/python/keras/initializers.py:143: calling RandomNormal.__init__ (from tensorflow.python.ops.init_ops) with dtype is deprecated and will be removed in a future version.\n",
      "Instructions for updating:\n",
      "Call initializer instance with the dtype argument instead of passing it to the constructor\n",
      "W0717 15:29:50.682850 47905375489536 deprecation.py:506] From /usr/local/tensorflow/1.14-0/lib/python3.6/site-packages/tensorflow/python/ops/init_ops.py:1251: calling VarianceScaling.__init__ (from tensorflow.python.ops.init_ops) with dtype is deprecated and will be removed in a future version.\n",
      "Instructions for updating:\n",
      "Call initializer instance with the dtype argument instead of passing it to the constructor\n"
     ]
    },
    {
     "name": "stdout",
     "output_type": "stream",
     "text": [
      "Model: \"sequential\"\n",
      "_________________________________________________________________\n",
      "Layer (type)                 Output Shape              Param #   \n",
      "=================================================================\n",
      "dense (Dense)                (None, 3200)              323200    \n",
      "_________________________________________________________________\n",
      "re_lu (ReLU)                 (None, 3200)              0         \n",
      "_________________________________________________________________\n",
      "reshape (Reshape)            (None, 25, 1, 128)        0         \n",
      "_________________________________________________________________\n",
      "batch_normalization (BatchNo (None, 25, 1, 128)        512       \n",
      "_________________________________________________________________\n",
      "conv2d_transpose (Conv2DTran (None, 125, 1, 64)        819264    \n",
      "_________________________________________________________________\n",
      "re_lu_1 (ReLU)               (None, 125, 1, 64)        0         \n",
      "_________________________________________________________________\n",
      "batch_normalization_1 (Batch (None, 125, 1, 64)        256       \n",
      "_________________________________________________________________\n",
      "conv2d_transpose_1 (Conv2DTr (None, 250, 1, 32)        204832    \n",
      "_________________________________________________________________\n",
      "re_lu_2 (ReLU)               (None, 250, 1, 32)        0         \n",
      "_________________________________________________________________\n",
      "batch_normalization_2 (Batch (None, 250, 1, 32)        128       \n",
      "_________________________________________________________________\n",
      "conv2d_transpose_2 (Conv2DTr (None, 500, 1, 16)        51216     \n",
      "_________________________________________________________________\n",
      "re_lu_3 (ReLU)               (None, 500, 1, 16)        0         \n",
      "_________________________________________________________________\n",
      "batch_normalization_3 (Batch (None, 500, 1, 16)        64        \n",
      "_________________________________________________________________\n",
      "conv2d_transpose_3 (Conv2DTr (None, 1000, 1, 8)        12808     \n",
      "_________________________________________________________________\n",
      "re_lu_4 (ReLU)               (None, 1000, 1, 8)        0         \n",
      "_________________________________________________________________\n",
      "batch_normalization_4 (Batch (None, 1000, 1, 8)        32        \n",
      "_________________________________________________________________\n",
      "conv2d_transpose_4 (Conv2DTr (None, 2000, 1, 1)        801       \n",
      "_________________________________________________________________\n",
      "activation (Activation)      (None, 2000, 1, 1)        0         \n",
      "_________________________________________________________________\n",
      "reshape_1 (Reshape)          (None, 2000, 1)           0         \n",
      "=================================================================\n",
      "Total params: 1,413,113\n",
      "Trainable params: 1,412,617\n",
      "Non-trainable params: 496\n",
      "_________________________________________________________________\n",
      "Model: \"sequential_1\"\n",
      "_________________________________________________________________\n",
      "Layer (type)                 Output Shape              Param #   \n",
      "=================================================================\n",
      "conv1d (Conv1D)              (None, 1000, 8)           808       \n",
      "_________________________________________________________________\n",
      "re_lu_5 (ReLU)               (None, 1000, 8)           0         \n",
      "_________________________________________________________________\n",
      "conv1d_1 (Conv1D)            (None, 500, 16)           12816     \n",
      "_________________________________________________________________\n",
      "re_lu_6 (ReLU)               (None, 500, 16)           0         \n",
      "_________________________________________________________________\n",
      "conv1d_2 (Conv1D)            (None, 250, 32)           51232     \n",
      "_________________________________________________________________\n",
      "re_lu_7 (ReLU)               (None, 250, 32)           0         \n",
      "_________________________________________________________________\n",
      "conv1d_3 (Conv1D)            (None, 125, 64)           204864    \n",
      "_________________________________________________________________\n",
      "re_lu_8 (ReLU)               (None, 125, 64)           0         \n",
      "_________________________________________________________________\n",
      "conv1d_4 (Conv1D)            (None, 25, 128)           819328    \n",
      "_________________________________________________________________\n",
      "re_lu_9 (ReLU)               (None, 25, 128)           0         \n",
      "_________________________________________________________________\n",
      "flatten (Flatten)            (None, 3200)              0         \n",
      "_________________________________________________________________\n",
      "dense_1 (Dense)              (None, 1)                 3201      \n",
      "=================================================================\n",
      "Total params: 1,092,249\n",
      "Trainable params: 1,092,249\n",
      "Non-trainable params: 0\n",
      "_________________________________________________________________\n"
     ]
    }
   ],
   "source": [
    "fs=(100,1)\n",
    "fm=128\n",
    "init_sigma = 0.003\n",
    "init_mean = 0.0\n",
    "alpha = 0.2\n",
    "# scrivo stringa info log gen #\n",
    "genn = build_generator(fs,fm,init_sigma,init_mean,alpha,100)\n",
    "fs = 100\n",
    "fm = 128\n",
    "init_sigma = 0.02\n",
    "init_mean = 0.0\n",
    "alpha = 0.2\n",
    "criticn = build_critic(fs,fm,init_sigma,init_mean,alpha)"
   ]
  },
  {
   "cell_type": "code",
   "execution_count": 45,
   "metadata": {},
   "outputs": [],
   "source": [
    "genn.load_weights('prova-pesi-gen.h5')\n",
    "criticn.load_weights('prova-pesi-critic.h5')"
   ]
  },
  {
   "cell_type": "code",
   "execution_count": 16,
   "metadata": {},
   "outputs": [],
   "source": [
    "noise = np.random.normal(0,1,(1,100))"
   ]
  },
  {
   "cell_type": "code",
   "execution_count": 17,
   "metadata": {},
   "outputs": [
    {
     "data": {
      "text/plain": [
       "[<matplotlib.lines.Line2D at 0x2b921e79cb38>]"
      ]
     },
     "execution_count": 17,
     "metadata": {},
     "output_type": "execute_result"
    },
    {
     "data": {
      "image/png": "[encoded data removed]",
      "text/plain": [
       "<Figure size 432x288 with 1 Axes>"
      ]
     },
     "metadata": {
      "needs_background": "light"
     },
     "output_type": "display_data"
    }
   ],
   "source": [
    "traj = genn.predict(noise)\n",
    "\n",
    "plt.plot(traj[0])"
   ]
  },
  {
   "cell_type": "code",
   "execution_count": 26,
   "metadata": {},
   "outputs": [
    {
     "data": {
      "text/plain": [
       "[<matplotlib.lines.Line2D at 0x2b9602a09438>]"
      ]
     },
     "execution_count": 26,
     "metadata": {},
     "output_type": "execute_result"
    },
    {
     "data": {
      "image/png": "[encoded data removed]",
      "text/plain": [
       "<Figure size 432x288 with 1 Axes>"
      ]
     },
     "metadata": {
      "needs_background": "light"
     },
     "output_type": "display_data"
    }
   ],
   "source": [
    "traj = gen.predict(noise)\n",
    "\n",
    "plt.plot(traj[0])"
   ]
  },
  {
   "cell_type": "code",
   "execution_count": 18,
   "metadata": {},
   "outputs": [
    {
     "ename": "NameError",
     "evalue": "name 'gennn' is not defined",
     "output_type": "error",
     "traceback": [
      "\u001b[0;31m---------------------------------------------------------------------------\u001b[0m",
      "\u001b[0;31mNameError\u001b[0m                                 Traceback (most recent call last)",
      "\u001b[0;32m<ipython-input-18-718b8676929f>\u001b[0m in \u001b[0;36m<module>\u001b[0;34m\u001b[0m\n\u001b[0;32m----> 1\u001b[0;31m \u001b[0mtraj\u001b[0m \u001b[0;34m=\u001b[0m \u001b[0mgennn\u001b[0m\u001b[0;34m.\u001b[0m\u001b[0mpredict\u001b[0m\u001b[0;34m(\u001b[0m\u001b[0mnoise\u001b[0m\u001b[0;34m)\u001b[0m\u001b[0;34m\u001b[0m\u001b[0;34m\u001b[0m\u001b[0m\n\u001b[0m\u001b[1;32m      2\u001b[0m \u001b[0;34m\u001b[0m\u001b[0m\n\u001b[1;32m      3\u001b[0m \u001b[0mplt\u001b[0m\u001b[0;34m.\u001b[0m\u001b[0mplot\u001b[0m\u001b[0;34m(\u001b[0m\u001b[0mtraj\u001b[0m\u001b[0;34m[\u001b[0m\u001b[0;36m0\u001b[0m\u001b[0;34m]\u001b[0m\u001b[0;34m)\u001b[0m\u001b[0;34m\u001b[0m\u001b[0;34m\u001b[0m\u001b[0m\n",
      "\u001b[0;31mNameError\u001b[0m: name 'gennn' is not defined"
     ]
    }
   ],
   "source": [
    "traj = gennn.predict(noise)\n",
    "\n",
    "plt.plot(traj[0])"
   ]
  }
 ],
 "metadata": {
  "kernelspec": {
   "display_name": "Python 3",
   "language": "python",
   "name": "python3"
  },
  "language_info": {
   "codemirror_mode": {
    "name": "ipython",
    "version": 3
   },
   "file_extension": ".py",
   "mimetype": "text/x-python",
   "name": "python",
   "nbconvert_exporter": "python",
   "pygments_lexer": "ipython3",
   "version": "3.6.8"
  }
 },
 "nbformat": 4,
 "nbformat_minor": 4
}
